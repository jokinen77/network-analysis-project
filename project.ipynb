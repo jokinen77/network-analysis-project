{
 "cells": [
  {
   "cell_type": "markdown",
   "metadata": {},
   "source": [
    "# Network analysis 2020 project\n",
    "\n",
    "## Data\n",
    "\n",
    "[Real Datasets for Spatial Databases: Road Networks and Points of Interest\n",
    "Dataset](https://www.cs.utah.edu/~lifeifei/SpatialDataset.htm) / 4. City of San Joaquin County (TG) Road Network\n",
    "\n",
    "<img src=\"https://www.cs.utah.edu/~lifeifei/research/tpq/TG.jpg\" />"
   ]
  },
  {
   "cell_type": "markdown",
   "metadata": {},
   "source": [
    "## Imports"
   ]
  },
  {
   "cell_type": "code",
   "execution_count": null,
   "metadata": {},
   "outputs": [],
   "source": [
    "import networkx as nx\n",
    "import matplotlib.pyplot as plt\n",
    "import numpy as np\n",
    "import pandas as pd\n",
    "import geopandas as gpd"
   ]
  },
  {
   "cell_type": "markdown",
   "metadata": {},
   "source": [
    "## Read data\n",
    "\n",
    "TG Road Network's Nodes (Node ID, Normalized X Coordinate, Normalized Y Coordinate)  \n",
    "TG Road Network's Edges (Edge ID, Start Node ID, End Node ID, L2 Distance)"
   ]
  },
  {
   "cell_type": "code",
   "execution_count": null,
   "metadata": {},
   "outputs": [],
   "source": [
    "edges = pd.read_csv('TG.cedge', names=[\"edge_id\", \"start_node_id\", \"end_node_id\", \"l2_distance\"], sep=\" \")\n",
    "G = nx.from_pandas_edgelist(edges, \"start_node_id\", \"end_node_id\", edge_attr=True)\n",
    "nodes = pd.read_csv('TG.cnode', names=[\"node_id\", \"x_coordinate\", \"y_coordinate\"], sep=\" \")\n",
    "data = nodes.set_index('node_id').to_dict('index').items()\n",
    "G.add_nodes_from(data)\n",
    "\n",
    "print(\"Nodes count:\", len(G.nodes()))\n",
    "print(\"Edges count:\", len(G.edges()))"
   ]
  },
  {
   "cell_type": "markdown",
   "metadata": {},
   "source": [
    "## Plot graph"
   ]
  },
  {
   "cell_type": "code",
   "execution_count": null,
   "metadata": {},
   "outputs": [],
   "source": [
    "def draw_road_graph(graph, min_edge_length=80, figure=None, figsize=(8,6), dpi=100, x_fix=0.0, y_fix=0.0, scale_x=1.0, scale_y=1.0):\n",
    "    if not figure:\n",
    "        plt.figure(figsize=figsize, dpi=dpi)\n",
    "    for edge in G.edges(data=True):\n",
    "        edge_data = edge[2]\n",
    "        if edge_data[\"l2_distance\"] < min_edge_length:\n",
    "            continue;\n",
    "        start_node = G.nodes[edge[0]]\n",
    "        end_node = G.nodes[edge[1]]\n",
    "        x_coordinates = [start_node[\"x_coordinate\"]*scale_x + x_fix, end_node[\"x_coordinate\"]*scale_x + x_fix]\n",
    "        y_coordinates = [start_node[\"y_coordinate\"]*-1*scale_y + y_fix + 10000*scale_y, end_node[\"y_coordinate\"]*-1*scale_y + y_fix + 10000*scale_y]\n",
    "        plt.plot(x_coordinates, y_coordinates, 'k-', lw=1)\n",
    "    #plt.scatter(nodes[\"x_coordinate\"], nodes[\"y_coordinate\"], alpha=0.5, s=2)\n",
    "    plt.show()\n",
    "    \n",
    "draw_road_graph(G)"
   ]
  },
  {
   "cell_type": "markdown",
   "metadata": {},
   "source": [
    "## Merge datasets WIP\n",
    "\n",
    "* Data: http://www.sjmap.org/GISDataDownload.htm"
   ]
  },
  {
   "cell_type": "code",
   "execution_count": null,
   "metadata": {},
   "outputs": [],
   "source": [
    "crs = \"+proj=longlat +ellps=WGS84 +datum=WGS84 +no_defs\"\n",
    "points_of_interest = gpd.read_file(\"PointsOfInterest/PointsOfInterest.shp\")\n",
    "points_of_interest = points_of_interest.to_crs(crs)\n",
    "points_of_interest = points_of_interest[points_of_interest.geometry.x < -120] # Falsy points \"POINT (165.9984561648179 -90)\"\n",
    "streets = gpd.read_file(\"Streets/Streets.shp\")\n",
    "streets = streets.to_crs(crs)\n",
    "\n",
    "fig, ax = plt.subplots(figsize=(10,8), dpi=100)\n",
    "ax.set_aspect('equal')\n",
    "points_of_interest.plot(ax=ax, color=\"red\", markersize=5, zorder=2)\n",
    "streets.plot(ax=ax, zorder=1)\n",
    "draw_road_graph(G, x_fix=-121.58, y_fix=37.555, figure=fig, scale_x=0.000066, scale_y=0.000072)"
   ]
  },
  {
   "cell_type": "code",
   "execution_count": null,
   "metadata": {},
   "outputs": [],
   "source": []
  }
 ],
 "metadata": {
  "kernelspec": {
   "display_name": "network-analysis",
   "language": "python",
   "name": "network-analysis"
  },
  "language_info": {
   "codemirror_mode": {
    "name": "ipython",
    "version": 3
   },
   "file_extension": ".py",
   "mimetype": "text/x-python",
   "name": "python",
   "nbconvert_exporter": "python",
   "pygments_lexer": "ipython3",
   "version": "3.7.2"
  }
 },
 "nbformat": 4,
 "nbformat_minor": 4
}
