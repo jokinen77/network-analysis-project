{
 "cells": [
  {
   "cell_type": "markdown",
   "metadata": {},
   "source": [
    "# Network analysis 2020 project\n",
    "\n",
    "## Data\n",
    "\n",
    "[Real Datasets for Spatial Databases: Road Networks and Points of Interest\n",
    "Dataset](https://www.cs.utah.edu/~lifeifei/SpatialDataset.htm) / 4. City of San Joaquin County (TG) Road Network\n",
    "\n",
    "<img src=\"https://www.cs.utah.edu/~lifeifei/research/tpq/TG.jpg\" />"
   ]
  },
  {
   "cell_type": "markdown",
   "metadata": {},
   "source": [
    "## Imports"
   ]
  },
  {
   "cell_type": "code",
   "execution_count": null,
   "metadata": {},
   "outputs": [],
   "source": [
    "import networkx as nx\n",
    "import matplotlib.pyplot as plt\n",
    "import numpy as np\n",
    "import pandas as pd"
   ]
  },
  {
   "cell_type": "markdown",
   "metadata": {},
   "source": [
    "## Read data\n",
    "\n",
    "TG Road Network's Nodes (Node ID, Normalized X Coordinate, Normalized Y Coordinate)  \n",
    "TG Road Network's Edges (Edge ID, Start Node ID, End Node ID, L2 Distance)"
   ]
  },
  {
   "cell_type": "code",
   "execution_count": null,
   "metadata": {},
   "outputs": [],
   "source": [
    "edges = pd.read_csv('TG.cedge', names=[\"edge_id\", \"start_node_id\", \"end_node_id\", \"l2_distance\"], sep=\" \")\n",
    "G = nx.from_pandas_edgelist(edges, \"start_node_id\", \"end_node_id\", edge_attr=True)\n",
    "nodes = pd.read_csv('TG.cnode', names=[\"node_id\", \"x_coordinate\", \"y_coordinate\"], sep=\" \")\n",
    "data = nodes.set_index('node_id').to_dict('index').items()\n",
    "G.add_nodes_from(data)\n",
    "\n",
    "print(\"Nodes count:\", len(G.nodes()))\n",
    "print(\"Edges count:\", len(G.edges()))"
   ]
  },
  {
   "cell_type": "markdown",
   "metadata": {},
   "source": [
    "## Plot graph"
   ]
  },
  {
   "cell_type": "code",
   "execution_count": null,
   "metadata": {},
   "outputs": [],
   "source": [
    "def draw_road_graph(graph, min_edge_length=80, figsize=(8,6), dpi=100):\n",
    "    plt.figure(figsize=figsize, dpi=dpi)\n",
    "    for edge in G.edges(data=True):\n",
    "        edge_data = edge[2]\n",
    "        if edge_data[\"l2_distance\"] < min_edge_length:\n",
    "            continue;\n",
    "        start_node = G.nodes[edge[0]]\n",
    "        end_node = G.nodes[edge[1]]\n",
    "        x_coordinates = [start_node[\"x_coordinate\"], end_node[\"x_coordinate\"]]\n",
    "        y_coordinates = [start_node[\"y_coordinate\"], end_node[\"y_coordinate\"]]\n",
    "        plt.plot(x_coordinates, y_coordinates, 'k-', lw=1)\n",
    "    plt.scatter(nodes[\"x_coordinate\"], nodes[\"y_coordinate\"], alpha=0.5, s=2)\n",
    "    plt.show()\n",
    "    \n",
    "draw_road_graph(G)"
   ]
  },
  {
   "cell_type": "code",
   "execution_count": null,
   "metadata": {},
   "outputs": [],
   "source": []
  }
 ],
 "metadata": {
  "kernelspec": {
   "display_name": "network-analysis",
   "language": "python",
   "name": "network-analysis"
  },
  "language_info": {
   "codemirror_mode": {
    "name": "ipython",
    "version": 3
   },
   "file_extension": ".py",
   "mimetype": "text/x-python",
   "name": "python",
   "nbconvert_exporter": "python",
   "pygments_lexer": "ipython3",
   "version": "3.6.8"
  }
 },
 "nbformat": 4,
 "nbformat_minor": 4
}
