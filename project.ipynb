{
 "cells": [
  {
   "cell_type": "markdown",
   "metadata": {},
   "source": [
    "# Network analysis 2020 project"
   ]
  },
  {
   "cell_type": "markdown",
   "metadata": {},
   "source": [
    "## Imports"
   ]
  },
  {
   "cell_type": "code",
   "execution_count": null,
   "metadata": {},
   "outputs": [],
   "source": [
    "import networkx as nx\n",
    "import matplotlib.pyplot as plt\n",
    "import numpy as np\n",
    "import pandas as pd\n",
    "import geopandas as gpd\n",
    "import collections\n",
    "import math\n",
    "import json\n",
    "import time\n",
    "from networkx.algorithms import community"
   ]
  },
  {
   "cell_type": "markdown",
   "metadata": {},
   "source": [
    "## Read data\n",
    "\n",
    "* [Real Datasets for Spatial Databases: Road Networks and Points of Interest\n",
    "Dataset](https://www.cs.utah.edu/~lifeifei/SpatialDataset.htm) / 4. City of San Joaquin County (TG) Road Network\n",
    "    * TG Road Network's Nodes (Node ID, Normalized X Coordinate, Normalized Y Coordinate)  \n",
    "    * TG Road Network's Edges (Edge ID, Start Node ID, End Node ID, L2 Distance)\n",
    "* [San Joaquin County, CA\n",
    "Geographic Information Systems](http://www.sjmap.org/GISDataDownload.htm) / GIS Data Download\n",
    "    * Points Of Interest\n",
    "    * Streets"
   ]
  },
  {
   "cell_type": "code",
   "execution_count": null,
   "metadata": {},
   "outputs": [],
   "source": [
    "edges = pd.read_csv('TG.cedge', names=[\"edge_id\", \"start_node_id\", \"end_node_id\", \"l2_distance\"], sep=\" \")\n",
    "G = nx.from_pandas_edgelist(edges, \"start_node_id\", \"end_node_id\", edge_attr=True)\n",
    "nodes = pd.read_csv('TG.cnode', names=[\"node_id\", \"x_coordinate\", \"y_coordinate\"], sep=\" \")\n",
    "data = nodes.set_index('node_id').to_dict('index').items()\n",
    "G.add_nodes_from(data)\n",
    "\n",
    "print(\"Nodes count: {}\".format(len(G.nodes())))\n",
    "print(\"Edges count: {}\".format(len(G.edges())))\n",
    "\n",
    "crs = \"+proj=longlat +ellps=WGS84 +datum=WGS84 +no_defs\"\n",
    "points_of_interest = gpd.read_file(\"PointsOfInterest/PointsOfInterest.shp\")\n",
    "points_of_interest = points_of_interest.to_crs(crs)\n",
    "points_of_interest = points_of_interest[points_of_interest.geometry.x < -120] # Falsy points \"POINT (165.9984561648179 -90)\"\n",
    "streets = gpd.read_file(\"Streets/Streets.shp\")\n",
    "streets = streets.to_crs(crs)\n",
    "\n",
    "print(\"Points of interest count: {}\".format(len(points_of_interest)))"
   ]
  },
  {
   "cell_type": "markdown",
   "metadata": {},
   "source": [
    "## Merge and plot graphs"
   ]
  },
  {
   "cell_type": "code",
   "execution_count": null,
   "metadata": {
    "scrolled": true
   },
   "outputs": [],
   "source": [
    "# Parameters\n",
    "x_fix=-121.58\n",
    "y_fix=37.555\n",
    "scale_x=0.000066\n",
    "scale_y=0.000072\n",
    "\n",
    "# Functions\n",
    "def transform_x_coord(x, x_fix, scale_x):\n",
    "    return x*scale_x + x_fix\n",
    "\n",
    "def transform_y_coord(y, y_fix, scale_y):\n",
    "    return y*-1*scale_y + y_fix + 10000*scale_y\n",
    "\n",
    "def draw_scatter_nodes(scatter_nodes, x_fix=0.0, y_fix=0.0, scale_x=1.0, scale_y=1.0):\n",
    "    scatter_x = []\n",
    "    scatter_y = []\n",
    "    for nodeIndex in scatter_nodes:\n",
    "        node = G.nodes[nodeIndex]\n",
    "        scatter_x.append(transform_x_coord(node[\"x_coordinate\"], x_fix, scale_x))\n",
    "        scatter_y.append(transform_y_coord(node[\"y_coordinate\"], y_fix, scale_y))\n",
    "    \n",
    "    plt.scatter(scatter_x, scatter_y, alpha=0.5, s=2)\n",
    "\n",
    "def draw_road_graph(graph, min_edge_length=80, figure=None, figsize=(10,8), dpi=100, x_fix=0.0, y_fix=0.0, scale_x=1.0, scale_y=1.0):\n",
    "    if not figure:\n",
    "        plt.figure(figsize=figsize, dpi=dpi)\n",
    "    for edge in G.edges(data=True):\n",
    "        edge_data = edge[2]\n",
    "        if edge_data[\"l2_distance\"] < min_edge_length:\n",
    "            continue;\n",
    "        start_node = G.nodes[edge[0]]\n",
    "        end_node = G.nodes[edge[1]]\n",
    "        x_coordinates = [transform_x_coord(start_node[\"x_coordinate\"], x_fix, scale_x), transform_x_coord(end_node[\"x_coordinate\"], x_fix, scale_x)]\n",
    "        y_coordinates = [transform_y_coord(start_node[\"y_coordinate\"], y_fix, scale_y), transform_y_coord(end_node[\"y_coordinate\"], y_fix, scale_y)]\n",
    "        plt.plot(x_coordinates, y_coordinates, 'k-', lw=1)"
   ]
  },
  {
   "cell_type": "code",
   "execution_count": null,
   "metadata": {},
   "outputs": [],
   "source": [
    "# Plot graphs\n",
    "fig, ax = plt.subplots(figsize=(10,8), dpi=100)\n",
    "ax.set_aspect('equal')\n",
    "points_of_interest.plot(ax=ax, color=\"red\", markersize=5, zorder=2)\n",
    "streets.plot(ax=ax, zorder=1)\n",
    "draw_road_graph(G, x_fix=x_fix, y_fix=y_fix, figure=fig, scale_x=scale_x, scale_y=scale_y)"
   ]
  },
  {
   "cell_type": "markdown",
   "metadata": {},
   "source": [
    "## Degree distribution"
   ]
  },
  {
   "cell_type": "code",
   "execution_count": null,
   "metadata": {},
   "outputs": [],
   "source": [
    "nodes, degrees = map(list, zip(*G.degree()))\n",
    "count = collections.Counter(degrees)\n",
    "\n",
    "x, y = map(list, zip(*count.items()))\n",
    "print('Degrees: {}'.format(x))\n",
    "print('Degree frequency: {}'.format(y))\n",
    "\n",
    "fig, ax = plt.subplots()\n",
    "plt.margins(x=0.08, y=0.08)\n",
    "plt.bar(x,y)\n",
    "plt.title('Degree distribution of the graph')\n",
    "plt.xlabel('Degree')\n",
    "plt.ylabel('Count')\n",
    "\n",
    "for degree, freq in zip(x, y):\n",
    "    ax.text(degree - .4, freq + 100, \" \"*(4-len(str(freq))) + str(freq), color='black')"
   ]
  },
  {
   "cell_type": "markdown",
   "metadata": {},
   "source": [
    "## Computing number of nearest poi:s for each node\n",
    "\n",
    "* This can be pretty slow ~5min.\n",
    "* First code block counts the nearest poi:s for the nodes and dumps the result map (node to count) to json file. Also adds the 'near_poi_count' attribute to the nodes in the graph (G).\n",
    "* Second code block just reads the json dump (node to count map) and adds the 'near_poi_count' attribute to the nodes in the graph."
   ]
  },
  {
   "cell_type": "code",
   "execution_count": null,
   "metadata": {},
   "outputs": [],
   "source": [
    "near_poi_count = {}\n",
    "for node in G.nodes():\n",
    "    near_poi_count[node] = 0\n",
    "    \n",
    "poi_x = points_of_interest.geometry.x\n",
    "poi_y = points_of_interest.geometry.y\n",
    "poi_coor = list(zip(poi_x, poi_y))\n",
    "    \n",
    "for coor in poi_coor:\n",
    "    nearest_node_dist = np.inf\n",
    "    nearest_node = np.NAN\n",
    "    for node in G.nodes(data=True):\n",
    "        attributes = node[1]\n",
    "        x = transform_x_coord(attributes[\"x_coordinate\"], x_fix, scale_x)\n",
    "        y = transform_y_coord(attributes[\"y_coordinate\"], y_fix, scale_y)\n",
    "        current_node_dist = math.sqrt((x - coor[0])**2 + (y - coor[1])**2)\n",
    "        if current_node_dist < 0.0125:\n",
    "            near_poi_count[node[0]] += 1\n",
    "    \n",
    "\n",
    "with open('near_poi_count.json', 'w') as file:\n",
    "    json.dump(near_poi_count, file)\n",
    "    \n",
    "nx.set_node_attributes(G, near_poi_count, 'near_poi_count')"
   ]
  },
  {
   "cell_type": "code",
   "execution_count": null,
   "metadata": {},
   "outputs": [],
   "source": [
    "with open('near_poi_count.json') as file:\n",
    "    near_poi_count = json.load(file)\n",
    "    near_poi_count = {int(k):int(v) for k,v in near_poi_count.items()}\n",
    "nx.set_node_attributes(G, near_poi_count, 'near_poi_count')"
   ]
  },
  {
   "cell_type": "markdown",
   "metadata": {},
   "source": [
    "## Community detection\n",
    "\n",
    "Uses Clauset-Newman-Moore greedy modularity maximization. See [documentation](https://networkx.github.io/documentation/stable/reference/algorithms/generated/networkx.algorithms.community.modularity_max.greedy_modularity_communities.html).\n",
    "\n",
    "The communities are ordered by the average near_poi_count of their nodes. The top communities are drawn on the map."
   ]
  },
  {
   "cell_type": "code",
   "execution_count": null,
   "metadata": {},
   "outputs": [],
   "source": [
    "communities = list(community.greedy_modularity_communities(G))"
   ]
  },
  {
   "cell_type": "code",
   "execution_count": null,
   "metadata": {},
   "outputs": [],
   "source": [
    "\n",
    "def get_average_poi_count(node_list):\n",
    "    average_poi_count = 0\n",
    "    for node in G.subgraph(node_list).nodes(data=True):\n",
    "        average_poi_count += node[1]['near_poi_count']\n",
    "    return average_poi_count / len(node_list)\n",
    "\n",
    "\n",
    "poi_to_community_dict = {}\n",
    "for i in range(len(communities)):\n",
    "    average_poi_count = get_average_poi_count(communities[i])\n",
    "    poi_to_community_dict[average_poi_count] = i\n",
    "\n",
    "sorted_poi_count_list = sorted(poi_to_community_dict.keys(), reverse=True)"
   ]
  },
  {
   "cell_type": "code",
   "execution_count": null,
   "metadata": {},
   "outputs": [],
   "source": [
    "number_of_communities = 20\n",
    "\n",
    "fig, ax = plt.subplots(figsize=(10,8), dpi=100)\n",
    "draw_road_graph(G, figure=fig)\n",
    "\n",
    "for i in range(number_of_communities):\n",
    "    index = poi_to_community_dict[sorted_poi_count_list[i]]\n",
    "    draw_scatter_nodes(scatter_nodes=communities[index])\n",
    "    "
   ]
  },
  {
   "cell_type": "markdown",
   "metadata": {},
   "source": [
    "## Edge betweenness\n",
    "\n",
    "* [networkx.algorithms.centrality.edge_betweenness_centrality](https://networkx.github.io/documentation/stable/reference/algorithms/generated/networkx.algorithms.centrality.edge_betweenness_centrality.html)\n",
    "* Took about 39 min.\n",
    "1. code block computes betweenness centralities for the edges in the graph and dump those values to file.\n",
    "2. code block reads the dump file and merges it to the actual graph.\n",
    "3. code block plots some data from the graph."
   ]
  },
  {
   "cell_type": "code",
   "execution_count": null,
   "metadata": {},
   "outputs": [],
   "source": [
    "start_time = time.time()\n",
    "edge_betweenness = nx.edge_betweenness_centrality(G, k=len(G.nodes()), normalized = True, weight=\"l2_distance\")\n",
    "print(\"Took {} sec\".format((time.time() - start_time)))\n",
    "\n",
    "edge_betweenness = {int(G.edges[k][\"edge_id\"]):float(v) for k,v in edge_betweenness.items()} #Convert to 'edge_id' to betweenness map\n",
    "\n",
    "with open('edge_betweenness.json', 'w') as file:\n",
    "    json.dump(edge_betweenness, file)"
   ]
  },
  {
   "cell_type": "code",
   "execution_count": null,
   "metadata": {},
   "outputs": [],
   "source": [
    "with open('edge_betweenness.json', 'r') as file:\n",
    "    edge_betweenness = json.load(file)\n",
    "\n",
    "edge_id_to_edge = {}\n",
    "for edge in G.edges(data=True):\n",
    "    edge_data = edge[2]\n",
    "    edge_id_to_edge[edge_data[\"edge_id\"]] = (edge[0], edge[1])\n",
    "    \n",
    "edge_betweenness = {edge_id_to_edge[int(k)]:float(v) for k,v in edge_betweenness.items()}\n",
    "nx.set_edge_attributes(G, edge_betweenness, \"betweenness\")"
   ]
  },
  {
   "cell_type": "code",
   "execution_count": null,
   "metadata": {},
   "outputs": [],
   "source": [
    "fig, ax = plt.subplots(figsize=(10,8), dpi=100)\n",
    "\n",
    "def draw_edges_with_highest_betweenness(graph, count, figure=None, figsize=(10,8), dpi=100, x_fix=0.0, y_fix=0.0, scale_x=1.0, scale_y=1.0):\n",
    "    edges = list(G.edges(data=True))\n",
    "    edges.sort(key = lambda x: x[2][\"betweenness\"], reverse=True)\n",
    "    max_betweenness = edges[0][2][\"betweenness\"]\n",
    "    if not figure:\n",
    "        plt.figure(figsize=figsize, dpi=dpi)\n",
    "    for i in range(count):\n",
    "        edge = edges[i]\n",
    "        edge_data = edge[2]\n",
    "        start_node = G.nodes[edge[0]]\n",
    "        end_node = G.nodes[edge[1]]\n",
    "        x_coordinates = [transform_x_coord(start_node[\"x_coordinate\"], x_fix, scale_x), transform_x_coord(end_node[\"x_coordinate\"], x_fix, scale_x)]\n",
    "        y_coordinates = [transform_y_coord(start_node[\"y_coordinate\"], y_fix, scale_y), transform_y_coord(end_node[\"y_coordinate\"], y_fix, scale_y)]\n",
    "        plt.plot(x_coordinates, y_coordinates, c=(0.0, 0.0, 1.0), lw=3)\n",
    "        \n",
    "draw_road_graph(G, figure=fig, x_fix=x_fix, y_fix=y_fix, scale_x=scale_x, scale_y=scale_y)\n",
    "draw_edges_with_highest_betweenness(G, 1000, figure=fig, x_fix=x_fix, y_fix=y_fix, scale_x=scale_x, scale_y=scale_y)\n",
    "points_of_interest.plot(ax=ax, color=\"red\", markersize=5, zorder=2)"
   ]
  },
  {
   "cell_type": "code",
   "execution_count": null,
   "metadata": {},
   "outputs": [],
   "source": []
  }
 ],
 "metadata": {
  "kernelspec": {
   "display_name": "network-analysis",
   "language": "python",
   "name": "network-analysis"
  },
  "language_info": {
   "codemirror_mode": {
    "name": "ipython",
    "version": 3
   },
   "file_extension": ".py",
   "mimetype": "text/x-python",
   "name": "python",
   "nbconvert_exporter": "python",
   "pygments_lexer": "ipython3",
   "version": "3.7.2"
  }
 },
 "nbformat": 4,
 "nbformat_minor": 4
}
