{
 "cells": [
  {
   "cell_type": "markdown",
   "metadata": {},
   "source": [
    "# Network analysis 2020 project\n",
    "\n",
    "## Data\n",
    "\n",
    "[Real Datasets for Spatial Databases: Road Networks and Points of Interest\n",
    "Dataset](https://www.cs.utah.edu/~lifeifei/SpatialDataset.htm) / 4. City of San Joaquin County (TG) Road Network\n",
    "\n",
    "<img src=\"https://www.cs.utah.edu/~lifeifei/research/tpq/TG.jpg\" />"
   ]
  },
  {
   "cell_type": "markdown",
   "metadata": {},
   "source": [
    "## Imports"
   ]
  },
  {
   "cell_type": "code",
   "execution_count": null,
   "metadata": {},
   "outputs": [],
   "source": [
    "import networkx as nx\n",
    "import matplotlib.pyplot as plt\n",
    "import numpy as np\n",
    "import pandas as pd\n",
    "import geopandas as gpd\n",
    "import collections\n",
    "\n",
    "from networkx.algorithms import community"
   ]
  },
  {
   "cell_type": "markdown",
   "metadata": {},
   "source": [
    "## Read data\n",
    "\n",
    "TG Road Network's Nodes (Node ID, Normalized X Coordinate, Normalized Y Coordinate)  \n",
    "TG Road Network's Edges (Edge ID, Start Node ID, End Node ID, L2 Distance)"
   ]
  },
  {
   "cell_type": "code",
   "execution_count": null,
   "metadata": {},
   "outputs": [],
   "source": [
    "edges = pd.read_csv('TG.cedge', names=[\"edge_id\", \"start_node_id\", \"end_node_id\", \"l2_distance\"], sep=\" \")\n",
    "G = nx.from_pandas_edgelist(edges, \"start_node_id\", \"end_node_id\", edge_attr=True)\n",
    "nodes = pd.read_csv('TG.cnode', names=[\"node_id\", \"x_coordinate\", \"y_coordinate\"], sep=\" \")\n",
    "data = nodes.set_index('node_id').to_dict('index').items()\n",
    "G.add_nodes_from(data)\n",
    "\n",
    "print(\"Nodes count:\", len(G.nodes()))\n",
    "print(\"Edges count:\", len(G.edges()))"
   ]
  },
  {
   "cell_type": "markdown",
   "metadata": {},
   "source": [
    "## Plot graph"
   ]
  },
  {
   "cell_type": "code",
   "execution_count": null,
   "metadata": {},
   "outputs": [],
   "source": [
    "def transform_x_coord(x, x_fix, scale_x):\n",
    "    return x*scale_x + x_fix\n",
    "\n",
    "def transform_y_coord(y, y_fix, scale_y):\n",
    "    return y*-1*scale_y + y_fix + 10000*scale_y\n",
    "\n",
    "def draw_road_graph(graph, min_edge_length=80, figure=None, figsize=(10,8), dpi=100, x_fix=0.0, y_fix=0.0, scale_x=1.0, scale_y=1.0, scatter_nodes=[]):\n",
    "    if not figure:\n",
    "        plt.figure(figsize=figsize, dpi=dpi)\n",
    "    for edge in G.edges(data=True):\n",
    "        edge_data = edge[2]\n",
    "        if edge_data[\"l2_distance\"] < min_edge_length:\n",
    "            continue;\n",
    "        start_node = G.nodes[edge[0]]\n",
    "        end_node = G.nodes[edge[1]]\n",
    "        x_coordinates = [transform_x_coord(start_node[\"x_coordinate\"], x_fix, scale_x), transform_x_coord(end_node[\"x_coordinate\"], x_fix, scale_x)]\n",
    "        y_coordinates = [transform_y_coord(start_node[\"y_coordinate\"], y_fix, scale_y), transform_y_coord(end_node[\"y_coordinate\"], y_fix, scale_y)]\n",
    "        plt.plot(x_coordinates, y_coordinates, 'k-', lw=1)\n",
    "    \n",
    "    scatter_x = []\n",
    "    scatter_y = []\n",
    "    for nodeIndex in scatter_nodes:\n",
    "        node = G.nodes[nodeIndex]\n",
    "        scatter_x.append(transform_x_coord(node[\"x_coordinate\"], x_fix, scale_x))\n",
    "        scatter_y.append(transform_y_coord(node[\"y_coordinate\"], y_fix, scale_y))\n",
    "    \n",
    "    plt.scatter(scatter_x, scatter_y, alpha=0.5, s=2)\n",
    "    plt.show()\n",
    "    \n",
    "draw_road_graph(G)"
   ]
  },
  {
   "cell_type": "markdown",
   "metadata": {},
   "source": [
    "## Merge datasets WIP\n",
    "\n",
    "* Data: http://www.sjmap.org/GISDataDownload.htm"
   ]
  },
  {
   "cell_type": "code",
   "execution_count": null,
   "metadata": {},
   "outputs": [],
   "source": [
    "crs = \"+proj=longlat +ellps=WGS84 +datum=WGS84 +no_defs\"\n",
    "points_of_interest = gpd.read_file(\"PointsOfInterest/PointsOfInterest.shp\")\n",
    "points_of_interest = points_of_interest.to_crs(crs)\n",
    "points_of_interest = points_of_interest[points_of_interest.geometry.x < -120] # Falsy points \"POINT (165.9984561648179 -90)\"\n",
    "streets = gpd.read_file(\"Streets/Streets.shp\")\n",
    "streets = streets.to_crs(crs)\n",
    "\n",
    "fig, ax = plt.subplots(figsize=(10,8), dpi=100)\n",
    "ax.set_aspect('equal')\n",
    "points_of_interest.plot(ax=ax, color=\"red\", markersize=5, zorder=2)\n",
    "streets.plot(ax=ax, zorder=1)\n",
    "\n",
    "x_fix=-121.58\n",
    "y_fix=37.555\n",
    "scale_x=0.000066\n",
    "scale_y=0.000072\n",
    "draw_road_graph(G, x_fix=x_fix, y_fix=y_fix, figure=fig, scale_x=scale_x, scale_y=scale_y)"
   ]
  },
  {
   "cell_type": "markdown",
   "metadata": {},
   "source": [
    "## Degree distribution"
   ]
  },
  {
   "cell_type": "code",
   "execution_count": null,
   "metadata": {},
   "outputs": [],
   "source": [
    "nodes, degrees = map(list, zip(*G.degree()))\n",
    "count = collections.Counter(degrees)\n",
    "\n",
    "x, y = map(list, zip(*count.items()))\n",
    "print('Degrees:',x)\n",
    "print('Degree frequency:',y)\n",
    "\n",
    "plt.bar(x,y)\n",
    "plt.title('Degree distribution of the graph')\n",
    "plt.xlabel('Degree')\n",
    "plt.ylabel('Count')"
   ]
  },
  {
   "cell_type": "markdown",
   "metadata": {},
   "source": [
    "## Community detection\n",
    "\n",
    "Uses Clauset-Newman-Moore greedy modularity maximization. See [documentation](https://networkx.github.io/documentation/stable/reference/algorithms/generated/networkx.algorithms.community.modularity_max.greedy_modularity_communities.html)."
   ]
  },
  {
   "cell_type": "code",
   "execution_count": null,
   "metadata": {},
   "outputs": [],
   "source": [
    "c = list(community.greedy_modularity_communities(G))"
   ]
  },
  {
   "cell_type": "code",
   "execution_count": null,
   "metadata": {},
   "outputs": [],
   "source": [
    "draw_road_graph(G, scatter_nodes=c[0])\n",
    "draw_road_graph(G, scatter_nodes=c[1])\n",
    "draw_road_graph(G, scatter_nodes=c[2])\n",
    "draw_road_graph(G, scatter_nodes=c[3])\n",
    "draw_road_graph(G, scatter_nodes=c[4])\n",
    "draw_road_graph(G, scatter_nodes=c[5])\n",
    "draw_road_graph(G, scatter_nodes=c[6])\n",
    "draw_road_graph(G, scatter_nodes=c[7])"
   ]
  }
 ],
 "metadata": {
  "kernelspec": {
   "display_name": "Python 3",
   "language": "python",
   "name": "python3"
  },
  "language_info": {
   "codemirror_mode": {
    "name": "ipython",
    "version": 3
   },
   "file_extension": ".py",
   "mimetype": "text/x-python",
   "name": "python",
   "nbconvert_exporter": "python",
   "pygments_lexer": "ipython3",
   "version": "3.7.3"
  }
 },
 "nbformat": 4,
 "nbformat_minor": 4
}
